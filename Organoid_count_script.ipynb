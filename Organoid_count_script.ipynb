{
 "cells": [
  {
   "cell_type": "code",
   "execution_count": 31,
   "metadata": {},
   "outputs": [],
   "source": [
    "import os\n",
    "import pandas as pd\n",
    "import numpy as np"
   ]
  },
  {
   "cell_type": "code",
   "execution_count": 32,
   "metadata": {},
   "outputs": [],
   "source": [
    "\n",
    "\n",
    "def rename_file_with_updirectory(address, search_string):\n",
    "    '''\n",
    "    #searches files containing provided substring and included updirectory name in th filename\n",
    "\n",
    "    #Parameters:\n",
    "        address : string, address of the location of the files\n",
    "        search_string: string, search object\n",
    "\n",
    "    #Returns:\n",
    "        None \n",
    "    '''\n",
    "    for root, subdirs, files in os.walk(address):\n",
    "        for name in files:\n",
    "            if search_string in name:\n",
    "                curr_address = os.path.basename(root)\n",
    "                oldname = os.path.join(address, curr_address, name)\n",
    "                splt_name =  name.split('.')\n",
    "                myname = '_'.join([curr_address,splt_name[0] + '.' + splt_name[1]]) ##name arangement can be changed here\n",
    "                newname = os.path.join(address, curr_address, myname)\n",
    "                os.rename(oldname, newname)"
   ]
  },
  {
   "cell_type": "code",
   "execution_count": 33,
   "metadata": {},
   "outputs": [],
   "source": [
    "# rename_file_with_updirectory(os.getcwd(),'.xlsx')"
   ]
  },
  {
   "cell_type": "code",
   "execution_count": 34,
   "metadata": {},
   "outputs": [],
   "source": [
    "\n",
    "def list_files_containing_search_string(address = os.getcwd(), search_string ='.' ):\n",
    "    '''\n",
    "    #Returns name and address of all files (including files in sub-durectory) containing a specific sub-string as dictionary.\n",
    "    The file extentions are not included in the file name.\n",
    "\n",
    "    #Parameters:\n",
    "        address : string, address of the location of the files\n",
    "        search_string: string, search object\n",
    "\n",
    "    #Returns:\n",
    "        dictioinary : A dictionary containing filenmae and address as key:value pair  \n",
    "    '''\n",
    "    file_address={}\n",
    "    for root, dirs, files in os.walk(address): \n",
    "        for f in files:\n",
    "            if search_string in f:\n",
    "                file_address[f.replace(search_string,\"\")] = os.path.join(root, f) ## remove replace function to includer file extention\n",
    "    return file_address\n",
    "\n",
    "     \n"
   ]
  },
  {
   "cell_type": "code",
   "execution_count": 35,
   "metadata": {},
   "outputs": [],
   "source": [
    "file_list = list_files_containing_search_string( search_string='.xlsx')    "
   ]
  },
  {
   "cell_type": "code",
   "execution_count": 38,
   "metadata": {},
   "outputs": [],
   "source": [
    "master_list=[]\n",
    "\n",
    "\n",
    "for file_name ,file_address in file_list.items():\n",
    "\n",
    "    file= pd.read_excel(file_address, usecols=[0,1]) ## use only first two columns (# and Size)\n",
    "    file.dropna(axis=0, inplace=True)\n",
    "    file.columns =['organoid_id','size']\n",
    "\n",
    "    row_id =list(file[file['organoid_id']=='#'].index) ## identify rows with '#' values, number of # values with \n",
    "    #consistent with number of wells \n",
    "\n",
    "    well_id=np.arange(0,len(row_id))\n",
    "\n",
    "    row_id.append(file.index[-1]+1) ## need to append last-row-id+1 for better functionality of following processes\n",
    "\n",
    "    for i in well_id:\n",
    "        file.loc[row_id[i]+1:row_id[i+1]-1,'well_number'] = i+1 ## place well ids\n",
    "\n",
    "    row_id.pop() # remove the value appended previosly \n",
    "\n",
    "    file=file.drop(row_id).reset_index().drop('index', axis=1).infer_objects()\n",
    "    \n",
    "    sample_name, sample_id = file_name.rsplit('_',1)\n",
    "    file['sample_name'] = sample_name\n",
    "    file['sample_id'] = sample_id\n",
    "\n",
    "    file['size_cat']=np.where(file['size']<=50,'small',\n",
    "                            np.where(file['size']<=150,'medium','large')) ##place categories\n",
    "    \n",
    "    master_list.append(file)\n",
    "\n",
    "    save_address= file_address.replace('.xlsx','.csv') ## address to save the file\n",
    "\n",
    "    file.to_csv(save_address)\n",
    "\n",
    "master_file = pd.concat(master_list).reset_index().drop('index',axis=1)\n",
    "\n",
    "master_file.to_csv('master_file_organoid_size.csv')\n",
    "\n"
   ]
  },
  {
   "cell_type": "code",
   "execution_count": 56,
   "metadata": {},
   "outputs": [],
   "source": [
    "master_file = pd.read_csv('master_file_organoid_size.csv')"
   ]
  },
  {
   "cell_type": "code",
   "execution_count": 57,
   "metadata": {},
   "outputs": [],
   "source": [
    "### groupby organoids using 'sample_name','sample_id','size_cat' and count them\n",
    "mean_count_per_sample=master_file.groupby(['sample_name','sample_id','size_cat'],as_index=False)['organoid_id'].count().rename(columns={\"organoid_id\": \"count\"})\n",
    "\n",
    "\n",
    "mean_count_per_sample.to_csv('mean_count_per_sample.csv')"
   ]
  },
  {
   "cell_type": "code",
   "execution_count": 58,
   "metadata": {},
   "outputs": [],
   "source": [
    "count_file=master_file.groupby(['sample_name','sample_id','well_number','size_cat'],as_index=False)['organoid_id'].agg({'count':'count'})\n",
    "\n",
    "count_file['count_mean']=count_file['count']/4  ##(devided by 4 because of 4 technical replicates)"
   ]
  },
  {
   "cell_type": "code",
   "execution_count": 59,
   "metadata": {},
   "outputs": [],
   "source": [
    "count_file.to_csv('count_file_organoid_size.csv')"
   ]
  },
  {
   "cell_type": "code",
   "execution_count": 60,
   "metadata": {},
   "outputs": [
    {
     "data": {
      "text/html": [
       "<div>\n",
       "<style scoped>\n",
       "    .dataframe tbody tr th:only-of-type {\n",
       "        vertical-align: middle;\n",
       "    }\n",
       "\n",
       "    .dataframe tbody tr th {\n",
       "        vertical-align: top;\n",
       "    }\n",
       "\n",
       "    .dataframe thead th {\n",
       "        text-align: right;\n",
       "    }\n",
       "</style>\n",
       "<table border=\"1\" class=\"dataframe\">\n",
       "  <thead>\n",
       "    <tr style=\"text-align: right;\">\n",
       "      <th></th>\n",
       "      <th>sample_name</th>\n",
       "      <th>size_cat</th>\n",
       "      <th>well_number</th>\n",
       "      <th>count</th>\n",
       "      <th>count_mean</th>\n",
       "    </tr>\n",
       "  </thead>\n",
       "  <tbody>\n",
       "    <tr>\n",
       "      <th>0</th>\n",
       "      <td>control</td>\n",
       "      <td>large</td>\n",
       "      <td>2.294118</td>\n",
       "      <td>47.529412</td>\n",
       "      <td>11.882353</td>\n",
       "    </tr>\n",
       "    <tr>\n",
       "      <th>1</th>\n",
       "      <td>control</td>\n",
       "      <td>medium</td>\n",
       "      <td>2.294118</td>\n",
       "      <td>188.647059</td>\n",
       "      <td>47.161765</td>\n",
       "    </tr>\n",
       "    <tr>\n",
       "      <th>2</th>\n",
       "      <td>control</td>\n",
       "      <td>small</td>\n",
       "      <td>2.294118</td>\n",
       "      <td>344.588235</td>\n",
       "      <td>86.147059</td>\n",
       "    </tr>\n",
       "    <tr>\n",
       "      <th>3</th>\n",
       "      <td>subject</td>\n",
       "      <td>large</td>\n",
       "      <td>2.500000</td>\n",
       "      <td>34.800000</td>\n",
       "      <td>8.700000</td>\n",
       "    </tr>\n",
       "    <tr>\n",
       "      <th>4</th>\n",
       "      <td>subject</td>\n",
       "      <td>medium</td>\n",
       "      <td>2.500000</td>\n",
       "      <td>211.600000</td>\n",
       "      <td>52.900000</td>\n",
       "    </tr>\n",
       "    <tr>\n",
       "      <th>5</th>\n",
       "      <td>subject</td>\n",
       "      <td>small</td>\n",
       "      <td>2.500000</td>\n",
       "      <td>397.550000</td>\n",
       "      <td>99.387500</td>\n",
       "    </tr>\n",
       "  </tbody>\n",
       "</table>\n",
       "</div>"
      ],
      "text/plain": [
       "  sample_name size_cat  well_number       count  count_mean\n",
       "0     control    large     2.294118   47.529412   11.882353\n",
       "1     control   medium     2.294118  188.647059   47.161765\n",
       "2     control    small     2.294118  344.588235   86.147059\n",
       "3     subject    large     2.500000   34.800000    8.700000\n",
       "4     subject   medium     2.500000  211.600000   52.900000\n",
       "5     subject    small     2.500000  397.550000   99.387500"
      ]
     },
     "execution_count": 60,
     "metadata": {},
     "output_type": "execute_result"
    }
   ],
   "source": [
    "count_file.groupby(['sample_name','size_cat'],as_index=False).mean()"
   ]
  },
  {
   "cell_type": "code",
   "execution_count": 61,
   "metadata": {},
   "outputs": [
    {
     "data": {
      "text/html": [
       "<div>\n",
       "<style scoped>\n",
       "    .dataframe tbody tr th:only-of-type {\n",
       "        vertical-align: middle;\n",
       "    }\n",
       "\n",
       "    .dataframe tbody tr th {\n",
       "        vertical-align: top;\n",
       "    }\n",
       "\n",
       "    .dataframe thead th {\n",
       "        text-align: right;\n",
       "    }\n",
       "</style>\n",
       "<table border=\"1\" class=\"dataframe\">\n",
       "  <thead>\n",
       "    <tr style=\"text-align: right;\">\n",
       "      <th></th>\n",
       "      <th>sample_name</th>\n",
       "      <th>well_number</th>\n",
       "      <th>count</th>\n",
       "      <th>count_mean</th>\n",
       "    </tr>\n",
       "  </thead>\n",
       "  <tbody>\n",
       "    <tr>\n",
       "      <th>0</th>\n",
       "      <td>control</td>\n",
       "      <td>2.294118</td>\n",
       "      <td>193.588235</td>\n",
       "      <td>48.397059</td>\n",
       "    </tr>\n",
       "    <tr>\n",
       "      <th>1</th>\n",
       "      <td>subject</td>\n",
       "      <td>2.500000</td>\n",
       "      <td>214.650000</td>\n",
       "      <td>53.662500</td>\n",
       "    </tr>\n",
       "  </tbody>\n",
       "</table>\n",
       "</div>"
      ],
      "text/plain": [
       "  sample_name  well_number       count  count_mean\n",
       "0     control     2.294118  193.588235   48.397059\n",
       "1     subject     2.500000  214.650000   53.662500"
      ]
     },
     "execution_count": 61,
     "metadata": {},
     "output_type": "execute_result"
    }
   ],
   "source": [
    "count_file.groupby(['sample_name'],as_index=False).mean()"
   ]
  },
  {
   "cell_type": "code",
   "execution_count": 62,
   "metadata": {},
   "outputs": [],
   "source": [
    "colony_efficiency=count_file.groupby(['sample_name','sample_id'],as_index=False)['count_mean'].agg({'count':'sum'})\n",
    "\n",
    "# b['sample_id_mean_count']=b['count']/4\n",
    "\n",
    "colony_efficiency['colony_forming efficiency']=(b['count']/8000)*100 ### started culture with 8000 cells"
   ]
  },
  {
   "cell_type": "code",
   "execution_count": 63,
   "metadata": {},
   "outputs": [],
   "source": [
    "colony_efficiency.to_csv('colony_efficiency.csv')"
   ]
  },
  {
   "cell_type": "code",
   "execution_count": 64,
   "metadata": {},
   "outputs": [
    {
     "data": {
      "text/html": [
       "<div>\n",
       "<style scoped>\n",
       "    .dataframe tbody tr th:only-of-type {\n",
       "        vertical-align: middle;\n",
       "    }\n",
       "\n",
       "    .dataframe tbody tr th {\n",
       "        vertical-align: top;\n",
       "    }\n",
       "\n",
       "    .dataframe thead th {\n",
       "        text-align: right;\n",
       "    }\n",
       "</style>\n",
       "<table border=\"1\" class=\"dataframe\">\n",
       "  <thead>\n",
       "    <tr style=\"text-align: right;\">\n",
       "      <th></th>\n",
       "      <th>count</th>\n",
       "      <th>colony_forming efficiency</th>\n",
       "    </tr>\n",
       "    <tr>\n",
       "      <th>sample_name</th>\n",
       "      <th></th>\n",
       "      <th></th>\n",
       "    </tr>\n",
       "  </thead>\n",
       "  <tbody>\n",
       "    <tr>\n",
       "      <th>control</th>\n",
       "      <td>493.65</td>\n",
       "      <td>6.170625</td>\n",
       "    </tr>\n",
       "    <tr>\n",
       "      <th>subject</th>\n",
       "      <td>643.95</td>\n",
       "      <td>8.049375</td>\n",
       "    </tr>\n",
       "  </tbody>\n",
       "</table>\n",
       "</div>"
      ],
      "text/plain": [
       "              count  colony_forming efficiency\n",
       "sample_name                                   \n",
       "control      493.65                   6.170625\n",
       "subject      643.95                   8.049375"
      ]
     },
     "execution_count": 64,
     "metadata": {},
     "output_type": "execute_result"
    }
   ],
   "source": [
    "colony_efficiency.groupby(['sample_name']).agg('mean','std')"
   ]
  }
 ],
 "metadata": {
  "kernelspec": {
   "display_name": "Python 3",
   "language": "python",
   "name": "python3"
  },
  "language_info": {
   "codemirror_mode": {
    "name": "ipython",
    "version": 3
   },
   "file_extension": ".py",
   "mimetype": "text/x-python",
   "name": "python",
   "nbconvert_exporter": "python",
   "pygments_lexer": "ipython3",
   "version": "3.8.8"
  }
 },
 "nbformat": 4,
 "nbformat_minor": 2
}
